{
 "cells": [
  {
   "cell_type": "code",
   "execution_count": 1,
   "id": "3c9b0680-8e64-4017-9d3c-ec491ba6013a",
   "metadata": {},
   "outputs": [
    {
     "name": "stdout",
     "output_type": "stream",
     "text": [
      "Requirement already satisfied: rdflib in c:\\software\\iniforge3\\lib\\site-packages (7.1.3)\n",
      "Requirement already satisfied: pyparsing<4,>=2.1.0 in c:\\software\\iniforge3\\lib\\site-packages (from rdflib) (3.2.1)\n"
     ]
    }
   ],
   "source": [
    "import sys\n",
    "!{sys.executable} -m pip install rdflib"
   ]
  },
  {
   "cell_type": "code",
   "execution_count": 45,
   "id": "ca2a8d32-ff5c-4d0d-bd98-d47904bf1240",
   "metadata": {},
   "outputs": [
    {
     "name": "stdout",
     "output_type": "stream",
     "text": [
      "Collecting pandas\n",
      "  Using cached pandas-2.2.3-cp312-cp312-win_amd64.whl.metadata (19 kB)\n",
      "Collecting numpy\n",
      "  Downloading numpy-2.2.3-cp312-cp312-win_amd64.whl.metadata (60 kB)\n",
      "Requirement already satisfied: python-dateutil>=2.8.2 in c:\\software\\iniforge3\\lib\\site-packages (from pandas) (2.9.0.post0)\n",
      "Collecting pytz>=2020.1 (from pandas)\n",
      "  Downloading pytz-2025.1-py2.py3-none-any.whl.metadata (22 kB)\n",
      "Collecting tzdata>=2022.7 (from pandas)\n",
      "  Downloading tzdata-2025.1-py2.py3-none-any.whl.metadata (1.4 kB)\n",
      "Requirement already satisfied: six>=1.5 in c:\\software\\iniforge3\\lib\\site-packages (from python-dateutil>=2.8.2->pandas) (1.17.0)\n",
      "Using cached pandas-2.2.3-cp312-cp312-win_amd64.whl (11.5 MB)\n",
      "Downloading numpy-2.2.3-cp312-cp312-win_amd64.whl (12.6 MB)\n",
      "   ---------------------------------------- 0.0/12.6 MB ? eta -:--:--\n",
      "   ---------------- ----------------------- 5.2/12.6 MB 26.6 MB/s eta 0:00:01\n",
      "   ------------------------------------ --- 11.5/12.6 MB 27.8 MB/s eta 0:00:01\n",
      "   ---------------------------------------- 12.6/12.6 MB 25.5 MB/s eta 0:00:00\n",
      "Downloading pytz-2025.1-py2.py3-none-any.whl (507 kB)\n",
      "Downloading tzdata-2025.1-py2.py3-none-any.whl (346 kB)\n",
      "Installing collected packages: pytz, tzdata, numpy, pandas\n",
      "Successfully installed numpy-2.2.3 pandas-2.2.3 pytz-2025.1 tzdata-2025.1\n"
     ]
    }
   ],
   "source": [
    "import sys\n",
    "!{sys.executable} -m pip install pandas numpy"
   ]
  },
  {
   "cell_type": "code",
   "execution_count": 317,
   "id": "29e916fd-e77c-4589-8089-e201f40a9c39",
   "metadata": {},
   "outputs": [],
   "source": [
    "#namespaces\n",
    "maSMP_ns = \"https://discovery.biothings.io/view/maSMP/\"\n",
    "maSMPPro_ns = \"https://discovery.biothings.io/view/maSMPProfiles/\"\n",
    "bioschemas = \"https://bioschemas.org/terms/\"\n",
    "codemeta = \"https://w3id.org/codemeta/\"\n",
    "schema_ns = \"http://schema.org/\" #double check whether http or https is used in the source file"
   ]
  },
  {
   "cell_type": "markdown",
   "id": "e8641aa7-9883-41e3-99ec-92e8c9746102",
   "metadata": {},
   "source": [
    "## Create an index page for Profiles"
   ]
  },
  {
   "cell_type": "code",
   "execution_count": 249,
   "id": "6f968d3e-8c9a-4e60-a273-34dc1ef536d0",
   "metadata": {},
   "outputs": [],
   "source": [
    "from rdflib import Graph\n",
    "from rdflib import URIRef, Literal\n",
    "from rdflib.namespace import RDF, RDFS, OWL\n",
    "\n",
    "from pandas import DataFrame"
   ]
  },
  {
   "cell_type": "code",
   "execution_count": 170,
   "id": "85fa4f98-ef54-4b8b-be2f-f98378ff3ce0",
   "metadata": {},
   "outputs": [],
   "source": [
    "#properties used for filtering triples\n",
    "rdfs_class = URIRef(\"http://www.w3.org/2000/01/rdf-schema#Class\")\n",
    "schema_domain = URIRef(schema_ns + \"domainIncludes\")\n",
    "schema_range = URIRef(schema_ns + \"rangeIncludes\")\n",
    "\n",
    "origin = \"https://raw.githubusercontent.com/zbmed-semtec/maSMPs/refs/heads/main/schema/maSMP_schema_v2/v2.1.0/profiles/maSMP_profiles_v2.jsonld\""
   ]
  },
  {
   "cell_type": "code",
   "execution_count": 171,
   "id": "9ad78c52-2944-4c37-9c42-28ecc84f6410",
   "metadata": {},
   "outputs": [
    {
     "data": {
      "text/plain": [
       "<Graph identifier=N6423be45d1214934bcfc4836985c87d4 (<class 'rdflib.graph.Graph'>)>"
      ]
     },
     "execution_count": 171,
     "metadata": {},
     "output_type": "execute_result"
    }
   ],
   "source": [
    "#load graph\n",
    "g = Graph()\n",
    "g.parse(origin)"
   ]
  },
  {
   "cell_type": "code",
   "execution_count": 12,
   "id": "b1330c13-36c9-4600-8687-84d373cdfcac",
   "metadata": {},
   "outputs": [],
   "source": [
    "#Create a generic table listing all the types and their descriptions\n",
    "\n",
    "table = \"<table>\\n\" + \"<tr><th>Profile</th><th>Description</th></tr>\\n\"\n",
    "\n",
    "#iterate over all classes in the maSMP namespace to get type and description\n",
    "for s in g.subjects(object=rdfs_class, unique=True) :\n",
    "    type_name = str(s).split('/')[-1]\n",
    "    if maSMPPro_ns in s :\n",
    "        description = g.value(subject=s, predicate=RDFS.comment)\n",
    "        table += \"<tr><td><a href='./\" + type_name[:-len(\"Profile\")] + \"'>\" + type_name + \"</a></td><td>\" + description + \"</td></tr>\\n\\n\"\n",
    "\n",
    "table += \"</table>\\n\""
   ]
  },
  {
   "cell_type": "code",
   "execution_count": 13,
   "id": "0870651a-78e0-466c-8321-a1df8e89a1e3",
   "metadata": {},
   "outputs": [],
   "source": [
    "# Create the Profiles page\n",
    "intro_text = \"\"\"\n",
    "<h1>maSMP Profiles</h1>\\n\n",
    "maSMP profiles are recommendations of use corresponding to [maSMP](./Types/index.md) and [schema.org](https://schema.org) types and properties. \n",
    "Recommendations relate to the cardinality (one, many) and marginality (minimum, recommended, optional). \n",
    "The json.schema corresponding to the maSMP profiles can be found at the [maSMP DDE namespace](https://discovery.biothings.io/ns/maSMPProfiles){:target=\"_blank\"}.\n",
    "\\n\\n\n",
    "To avoid conflict/confusion between types and profiles, all the profile names end with the suffix 'Profile'\n",
    "\\n\\n\n",
    "\"\"\"\n",
    "\n",
    "with open(\"../docs/Profiles/index.md\", 'w') as file:\n",
    "    file.write(intro_text)\n",
    "    file.write(table)"
   ]
  },
  {
   "cell_type": "markdown",
   "id": "85e510d7-cbea-4554-b390-1bde70128829",
   "metadata": {},
   "source": [
    "## Create individual pages, one per profile"
   ]
  },
  {
   "cell_type": "code",
   "execution_count": 124,
   "id": "398e8cda-5477-48b9-89eb-f7bb7be1d76a",
   "metadata": {},
   "outputs": [],
   "source": [
    "import urllib.request, json\n",
    "import re"
   ]
  },
  {
   "cell_type": "code",
   "execution_count": 318,
   "id": "a7e4b74b-dad9-4778-9efb-669ef322dcac",
   "metadata": {},
   "outputs": [
    {
     "name": "stdout",
     "output_type": "stream",
     "text": [
      "<a href='../../Types/SoftwareRunAction'>maSMP:SoftwareRunAction</a>\n"
     ]
    }
   ],
   "source": [
    "def_value = maSMP_ns\n",
    "def convert_to_link(url, maSMP_ns=def_value, label=None, md=False) :\n",
    "    url = str(url) #just in case it is not plain text but a URIRef\n",
    "    local = True if url.startswith(\"maSMP:\") else False\n",
    "    \n",
    "    url = url.replace(\"maSMP:\", \"../../Types/\")    \n",
    "    if label is None:\n",
    "        if (bioschemas in url) :\n",
    "            label = \"bioschemas:\" + str(url).split('/')[-1]\n",
    "        elif (codemeta in url) :\n",
    "            label = \"codemeta:\" + str(url).split('/')[-1]\n",
    "        else : \n",
    "            label = str(url).split('/')[-1]\n",
    "\n",
    "    if local :\n",
    "        label = \"maSMP:\" + label\n",
    "        if md :\n",
    "            return \"[{}]({})\".format(label, url)\n",
    "        else :\n",
    "            return \"<a href='{}'>{}</a>\".format(url, label)\n",
    "    else :   \n",
    "        if maSMP_ns in url :\n",
    "            return \"maSMP:\" + label\n",
    "        else :\n",
    "            if md :\n",
    "                return \"[{}]({})\".format(label, url) + \"{:target='_blank'}\"\n",
    "            else :\n",
    "                return \"<a href='{}' target='_blank'>{}</a>\".format(url, label)\n",
    "\n",
    "print(convert_to_link(\"maSMP:SoftwareRunAction\"))"
   ]
  },
  {
   "cell_type": "code",
   "execution_count": 178,
   "id": "a9bcd074-1163-4638-ad3e-d50dde6be0f2",
   "metadata": {},
   "outputs": [
    {
     "name": "stdout",
     "output_type": "stream",
     "text": [
      "this is a <a href='https://schema.org/Thing' target='_blank'>Thing</a> in md\n"
     ]
    }
   ],
   "source": [
    "def clean_text(text) :\n",
    "    return re.sub(r\"(\\[\\[)(\\w+)(\\]\\])\", r\"<a href='https://schema.org/\\g<2>' target='_blank'>\\g<2></a>\", text)\n",
    "\n",
    "print(clean_text(\"this is a [[Thing]] in md\"))"
   ]
  },
  {
   "cell_type": "code",
   "execution_count": 177,
   "id": "d9089f12-0107-4ca2-911b-f6c0aed1d5e9",
   "metadata": {},
   "outputs": [],
   "source": [
    "def column_to_table(value, pos) :\n",
    "    if pos == \"first\" :\n",
    "        return \"<tr><td>\" + value + \"</td>\"\n",
    "    elif pos == \"last\" :\n",
    "        return \"<td>\" + value + \"</td></tr>\"\n",
    "    else :\n",
    "        return \"<td>\" + value + \"</td>\""
   ]
  },
  {
   "cell_type": "code",
   "execution_count": 179,
   "id": "50b6a2c7-ee4e-4da5-bcf7-65b40486c4ff",
   "metadata": {},
   "outputs": [],
   "source": [
    "def df_to_table(df) :\n",
    "    table = \"<table>\\n\" + \"<tr><td>Property</td><td>Expected Type</td><td>Description</td><td>Cardinality</td></tr>\\n\" \n",
    "    \n",
    "    i = 0\n",
    "    num_cols = df.shape[1]\n",
    "    \n",
    "    for column in df :\n",
    "        df[column] = df[column].apply(clean_text)\n",
    "        if i == 0 :\n",
    "            df[column] = df[column].apply(column_to_table, pos=\"first\")\n",
    "        elif i == num_cols - 1 :\n",
    "            df[column] = df[column].apply(column_to_table, pos=\"last\")\n",
    "        else :\n",
    "            df[column] = df[column].apply(column_to_table, pos=\"middle\")\n",
    "        i += 1\n",
    "\n",
    "    table += df.to_string(header=False, index=False, index_names=False)\n",
    "    table += \"</table>\\n\"\n",
    "    \n",
    "    return (table)"
   ]
  },
  {
   "cell_type": "code",
   "execution_count": 320,
   "id": "9d17a4d8-6023-45fb-ac17-a7054d9173ef",
   "metadata": {},
   "outputs": [],
   "source": [
    "def_schemaorg = schema_ns\n",
    "def find_expected_type(g_types, item, schema_ns=def_schemaorg) :\n",
    "    found = False\n",
    "    for s in g_types.subjects(RDFS.label, Literal(item), unique=True) :\n",
    "        found = True\n",
    "        ranges = list(map(convert_to_link, g_types.objects(s, schema_range)))\n",
    "        return \" or \".join(map(convert_to_link, g_types.objects(s, schema_range))), convert_to_link(s)\n",
    "         #labels are unique, only one subject will be found\n",
    "\n",
    "    #in case the property was not explicitly defined -- schema.org prop\n",
    "    schema_link = convert_to_link(schema_ns + item)\n",
    "    return \"See range for \" + schema_link + \" in schema.org\", schema_link\n",
    "#todo: load schema.org graph and look for the ranges for the missing ones        "
   ]
  },
  {
   "cell_type": "code",
   "execution_count": 321,
   "id": "b920e988-b675-46b7-a88c-7acc417aa974",
   "metadata": {},
   "outputs": [],
   "source": [
    "def get_prop_list(g_types, elem, level) :\n",
    "    lst = []\n",
    "    for item in elem[\"$validation\"][level] :\n",
    "        expected, item_link = find_expected_type(g_types, item)\n",
    "        new_row = {\n",
    "            \"Property\": item_link, \n",
    "            \"Expected Type\": expected, \n",
    "            \"Description\": elem[\"$validation\"][\"properties\"][item][\"description\"], \n",
    "            \"Cardinality\": elem[\"$validation\"][\"properties\"][item][\"owl:cardinality\"]\n",
    "        }\n",
    "        lst.append(new_row)\n",
    "    return lst"
   ]
  },
  {
   "cell_type": "code",
   "execution_count": 322,
   "id": "27916c10-6305-40a5-9331-3d6778cc4bbd",
   "metadata": {},
   "outputs": [],
   "source": [
    "lst_min = []\n",
    "lst_rec= []\n",
    "lst_opt = []\n",
    "\n",
    "with urllib.request.urlopen(origin) as prof_file:\n",
    "    prof_data = json.load(prof_file)\n",
    "\n",
    "#load types graph (rather than profiles)\n",
    "g_types = Graph()\n",
    "g_types.parse(\"https://raw.githubusercontent.com/zbmed-semtec/maSMPs/refs/heads/main/schema/maSMP_schema_v2/maSMP_v2.jsonld\")\n",
    "\n",
    "for elem in prof_data[\"@graph\"] :\n",
    "    if elem[\"@type\"] == \"rdfs:Class\" :\n",
    "        intro_text = \"<h1>\" + elem[\"rdfs:label\"] + \"</h1>\\n\\n\"\n",
    "        intro_text += elem[\"rdfs:label\"] + \" is profile for \" + convert_to_link(elem[\"rdfs:subClassOf\"][\"@id\"]) + \"\\n\\n\"\n",
    "        intro_text += elem[\"rdfs:comment\"] + \"\\n\\n\"\n",
    "\n",
    "        lst_min = get_prop_list(g_types, elem, \"required\")\n",
    "        lst_rec = get_prop_list(g_types, elem, \"recommended\")\n",
    "        lst_opt = get_prop_list(g_types, elem, \"optional\")\n",
    "\n",
    "        with open(\"../docs/Profiles/\" + (elem[\"rdfs:label\"])[:-len(\"Profile\")] + \".md\", 'w') as file:\n",
    "            file.write(intro_text)\n",
    "            file.write(\"## Minimum properties\\n\\n\")\n",
    "            df_min = DataFrame(lst_min)\n",
    "            file.write(df_to_table(df_min))\n",
    "            \n",
    "            file.write(\"\\n## Recommended properties\\n\\n\")\n",
    "            file.write(df_to_table(DataFrame(lst_rec)))\n",
    "            \n",
    "            file.write(\"\\n## Optional properties\\n\\n\")\n",
    "            file.write(df_to_table(DataFrame(lst_opt)))\n",
    "            \n",
    "        "
   ]
  },
  {
   "cell_type": "code",
   "execution_count": null,
   "id": "6b551024-ac19-4e80-9680-db9a3e5ce875",
   "metadata": {},
   "outputs": [],
   "source": []
  }
 ],
 "metadata": {
  "kernelspec": {
   "display_name": "Python 3 (ipykernel)",
   "language": "python",
   "name": "python3"
  },
  "language_info": {
   "codemirror_mode": {
    "name": "ipython",
    "version": 3
   },
   "file_extension": ".py",
   "mimetype": "text/x-python",
   "name": "python",
   "nbconvert_exporter": "python",
   "pygments_lexer": "ipython3",
   "version": "3.12.7"
  }
 },
 "nbformat": 4,
 "nbformat_minor": 5
}
