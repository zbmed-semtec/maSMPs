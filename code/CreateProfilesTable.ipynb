{
 "cells": [
  {
   "cell_type": "code",
   "execution_count": 1,
   "id": "3c9b0680-8e64-4017-9d3c-ec491ba6013a",
   "metadata": {},
   "outputs": [
    {
     "name": "stdout",
     "output_type": "stream",
     "text": [
      "Requirement already satisfied: rdflib in c:\\software\\iniforge3\\lib\\site-packages (7.1.3)\n",
      "Requirement already satisfied: pyparsing<4,>=2.1.0 in c:\\software\\iniforge3\\lib\\site-packages (from rdflib) (3.2.1)\n"
     ]
    }
   ],
   "source": [
    "import sys\n",
    "!{sys.executable} -m pip install rdflib"
   ]
  },
  {
   "cell_type": "code",
   "execution_count": 45,
   "id": "ca2a8d32-ff5c-4d0d-bd98-d47904bf1240",
   "metadata": {},
   "outputs": [
    {
     "name": "stdout",
     "output_type": "stream",
     "text": [
      "Collecting pandas\n",
      "  Using cached pandas-2.2.3-cp312-cp312-win_amd64.whl.metadata (19 kB)\n",
      "Collecting numpy\n",
      "  Downloading numpy-2.2.3-cp312-cp312-win_amd64.whl.metadata (60 kB)\n",
      "Requirement already satisfied: python-dateutil>=2.8.2 in c:\\software\\iniforge3\\lib\\site-packages (from pandas) (2.9.0.post0)\n",
      "Collecting pytz>=2020.1 (from pandas)\n",
      "  Downloading pytz-2025.1-py2.py3-none-any.whl.metadata (22 kB)\n",
      "Collecting tzdata>=2022.7 (from pandas)\n",
      "  Downloading tzdata-2025.1-py2.py3-none-any.whl.metadata (1.4 kB)\n",
      "Requirement already satisfied: six>=1.5 in c:\\software\\iniforge3\\lib\\site-packages (from python-dateutil>=2.8.2->pandas) (1.17.0)\n",
      "Using cached pandas-2.2.3-cp312-cp312-win_amd64.whl (11.5 MB)\n",
      "Downloading numpy-2.2.3-cp312-cp312-win_amd64.whl (12.6 MB)\n",
      "   ---------------------------------------- 0.0/12.6 MB ? eta -:--:--\n",
      "   ---------------- ----------------------- 5.2/12.6 MB 26.6 MB/s eta 0:00:01\n",
      "   ------------------------------------ --- 11.5/12.6 MB 27.8 MB/s eta 0:00:01\n",
      "   ---------------------------------------- 12.6/12.6 MB 25.5 MB/s eta 0:00:00\n",
      "Downloading pytz-2025.1-py2.py3-none-any.whl (507 kB)\n",
      "Downloading tzdata-2025.1-py2.py3-none-any.whl (346 kB)\n",
      "Installing collected packages: pytz, tzdata, numpy, pandas\n",
      "Successfully installed numpy-2.2.3 pandas-2.2.3 pytz-2025.1 tzdata-2025.1\n"
     ]
    }
   ],
   "source": [
    "import sys\n",
    "!{sys.executable} -m pip install pandas numpy"
   ]
  },
  {
   "cell_type": "code",
   "execution_count": 19,
   "id": "29e916fd-e77c-4589-8089-e201f40a9c39",
   "metadata": {},
   "outputs": [],
   "source": [
    "#namespaces\n",
    "maSMP_ns = \"https://discovery.biothings.io/view/maSMP/\"\n",
    "maSMPPro_ns = \"https://discovery.biothings.io/view/maSMPProfiles/\"\n",
    "schema_ns = \"http://schema.org/\" #double check whether http or https is used in the source file"
   ]
  },
  {
   "cell_type": "markdown",
   "id": "e8641aa7-9883-41e3-99ec-92e8c9746102",
   "metadata": {},
   "source": [
    "## Create an index page for Profiles"
   ]
  },
  {
   "cell_type": "code",
   "execution_count": 9,
   "id": "6f968d3e-8c9a-4e60-a273-34dc1ef536d0",
   "metadata": {},
   "outputs": [],
   "source": [
    "from rdflib import Graph\n",
    "from rdflib import URIRef\n",
    "from rdflib.namespace import RDF, RDFS, OWL\n",
    "\n",
    "from pandas import DataFrame"
   ]
  },
  {
   "cell_type": "code",
   "execution_count": 20,
   "id": "85fa4f98-ef54-4b8b-be2f-f98378ff3ce0",
   "metadata": {},
   "outputs": [],
   "source": [
    "#properties used for filtering triples\n",
    "rdfs_class = URIRef(\"http://www.w3.org/2000/01/rdf-schema#Class\")\n",
    "schema_domain = URIRef(schema_ns + \"domainIncludes\")\n",
    "schema_range = URIRef(schema_ns + \"rangeIncludes\")"
   ]
  },
  {
   "cell_type": "code",
   "execution_count": 3,
   "id": "9ad78c52-2944-4c37-9c42-28ecc84f6410",
   "metadata": {},
   "outputs": [
    {
     "data": {
      "text/plain": [
       "<Graph identifier=Neee7e70c9e834b508a746680eae04e5b (<class 'rdflib.graph.Graph'>)>"
      ]
     },
     "execution_count": 3,
     "metadata": {},
     "output_type": "execute_result"
    }
   ],
   "source": [
    "#load graph\n",
    "g = Graph()\n",
    "g.parse(\"https://raw.githubusercontent.com/zbmed-semtec/maSMPs/refs/heads/main/schema/maSMP_schema_v2/v2.1.0/profiles/maSMP_profiles_v2.jsonld\")"
   ]
  },
  {
   "cell_type": "code",
   "execution_count": 12,
   "id": "b1330c13-36c9-4600-8687-84d373cdfcac",
   "metadata": {},
   "outputs": [],
   "source": [
    "#Create a generic table listing all the types and their descriptions\n",
    "\n",
    "table = \"<table>\\n\" + \"<tr><th>Profile</th><th>Description</th></tr>\\n\"\n",
    "\n",
    "#iterate over all classes in the maSMP namespace to get type and description\n",
    "for s in g.subjects(object=rdfs_class, unique=True) :\n",
    "    type_name = str(s).split('/')[-1]\n",
    "    if maSMPPro_ns in s :\n",
    "        description = g.value(subject=s, predicate=RDFS.comment)\n",
    "        table += \"<tr><td><a href='./\" + type_name[:-len(\"Profile\")] + \"'>\" + type_name + \"</a></td><td>\" + description + \"</td></tr>\\n\\n\"\n",
    "\n",
    "table += \"</table>\\n\""
   ]
  },
  {
   "cell_type": "code",
   "execution_count": 13,
   "id": "0870651a-78e0-466c-8321-a1df8e89a1e3",
   "metadata": {},
   "outputs": [],
   "source": [
    "# Create the Profiles page\n",
    "intro_text = \"\"\"\n",
    "<h1>maSMP Profiles</h1>\\n\n",
    "maSMP profiles are recommendations of use corresponding to [maSMP](./Types/index.md) and [schema.org](https://schema.org) types and properties. \n",
    "Recommendations relate to the cardinality (one, many) and marginality (minimum, recommended, optional). \n",
    "The json.schema corresponding to the maSMP profiles can be found at the [maSMP DDE namespace](https://discovery.biothings.io/ns/maSMPProfiles){:target=\"_blank\"}.\n",
    "\\n\\n\n",
    "To avoid conflict/confusion between types and profiles, all the profile names end with the suffix 'Profile'\n",
    "\\n\\n\n",
    "\"\"\"\n",
    "\n",
    "with open(\"../docs/Profiles/index.md\", 'w') as file:\n",
    "    file.write(intro_text)\n",
    "    file.write(table)"
   ]
  },
  {
   "cell_type": "markdown",
   "id": "85e510d7-cbea-4554-b390-1bde70128829",
   "metadata": {},
   "source": [
    "## Create individual pages, one per profile"
   ]
  },
  {
   "cell_type": "code",
   "execution_count": 15,
   "id": "398e8cda-5477-48b9-89eb-f7bb7be1d76a",
   "metadata": {},
   "outputs": [],
   "source": [
    "import urllib.request, json"
   ]
  },
  {
   "cell_type": "code",
   "execution_count": 35,
   "id": "a7e4b74b-dad9-4778-9efb-669ef322dcac",
   "metadata": {},
   "outputs": [
    {
     "name": "stdout",
     "output_type": "stream",
     "text": [
      "<a href='../../Types/SoftwareRunAction'>maSMP:SoftwareRunAction</a>\n"
     ]
    }
   ],
   "source": [
    "def_value = maSMP_ns\n",
    "def convert_to_link(url, label=None, md=False) :\n",
    "    local = True if url.startswith(\"maSMP:\") else False\n",
    "    \n",
    "    url = url.replace(\"maSMP:\", \"../../Types/\")    \n",
    "    if label is None:\n",
    "        label = str(url).split('/')[-1]\n",
    "\n",
    "    if local :\n",
    "        label = \"maSMP:\" + label\n",
    "        if md :\n",
    "            return \"[{}]({})\".format(label, url)\n",
    "        else :\n",
    "            return \"<a href='{}'>{}</a>\".format(url, label)\n",
    "    else :   \n",
    "        if md :\n",
    "            return \"[{}]({})\".format(label, url) + \"{:target='_blank'}\"\n",
    "        else :\n",
    "            return \"<a href='{}' target='_blank'>{}</a>\".format(url, label)\n",
    "\n",
    "print(convert_to_link(\"maSMP:SoftwareRunAction\"))"
   ]
  },
  {
   "cell_type": "code",
   "execution_count": 17,
   "id": "fea21be1-44fe-4c2c-9894-8b026573bde3",
   "metadata": {},
   "outputs": [],
   "source": [
    "origin = \"https://raw.githubusercontent.com/zbmed-semtec/maSMPs/refs/heads/main/schema/maSMP_schema_v2/v2.1.0/profiles/maSMP_profiles_v2.jsonld\"\n",
    "with urllib.request.urlopen(origin) as prof_file:\n",
    "    prof_data = json.load(prof_file)"
   ]
  },
  {
   "cell_type": "code",
   "execution_count": 47,
   "id": "b920e988-b675-46b7-a88c-7acc417aa974",
   "metadata": {},
   "outputs": [],
   "source": [
    "def get_prop_list(elem, level) :\n",
    "    lst = []\n",
    "    for item in elem[\"$validation\"][level] :\n",
    "        new_row = {\"Property\": item, \"Expected Type\": \"\", \"Description\": \"\", \"Cardinality\": \"\"}\n",
    "        new_row[\"Description\"] = elem[\"$validation\"][\"properties\"][item][\"description\"]\n",
    "        new_row[\"Cardinality\"] = elem[\"$validation\"][\"properties\"][item][\"owl:cardinality\"]\n",
    "        lst.append(new_row)\n",
    "    return lst"
   ]
  },
  {
   "cell_type": "code",
   "execution_count": 48,
   "id": "27916c10-6305-40a5-9331-3d6778cc4bbd",
   "metadata": {},
   "outputs": [
    {
     "ename": "KeyError",
     "evalue": "'archivedAt'",
     "output_type": "error",
     "traceback": [
      "\u001b[1;31m---------------------------------------------------------------------------\u001b[0m",
      "\u001b[1;31mKeyError\u001b[0m                                  Traceback (most recent call last)",
      "Cell \u001b[1;32mIn[48], line 12\u001b[0m\n\u001b[0;32m      9\u001b[0m intro_text \u001b[38;5;241m+\u001b[39m\u001b[38;5;241m=\u001b[39m elem[\u001b[38;5;124m\"\u001b[39m\u001b[38;5;124mrdfs:comment\u001b[39m\u001b[38;5;124m\"\u001b[39m] \u001b[38;5;241m+\u001b[39m \u001b[38;5;124m\"\u001b[39m\u001b[38;5;130;01m\\n\u001b[39;00m\u001b[38;5;130;01m\\n\u001b[39;00m\u001b[38;5;124m\"\u001b[39m\n\u001b[0;32m     11\u001b[0m lst_min \u001b[38;5;241m=\u001b[39m get_prop_list(elem, \u001b[38;5;124m\"\u001b[39m\u001b[38;5;124mrequired\u001b[39m\u001b[38;5;124m\"\u001b[39m)\n\u001b[1;32m---> 12\u001b[0m lst_rec \u001b[38;5;241m=\u001b[39m \u001b[43mget_prop_list\u001b[49m\u001b[43m(\u001b[49m\u001b[43melem\u001b[49m\u001b[43m,\u001b[49m\u001b[43m \u001b[49m\u001b[38;5;124;43m\"\u001b[39;49m\u001b[38;5;124;43mrecommended\u001b[39;49m\u001b[38;5;124;43m\"\u001b[39;49m\u001b[43m)\u001b[49m\n\u001b[0;32m     13\u001b[0m lst_opt \u001b[38;5;241m=\u001b[39m get_prop_list(elem, \u001b[38;5;124m\"\u001b[39m\u001b[38;5;124moptional\u001b[39m\u001b[38;5;124m\"\u001b[39m)\n\u001b[0;32m     15\u001b[0m \u001b[38;5;28;01mwith\u001b[39;00m \u001b[38;5;28mopen\u001b[39m(\u001b[38;5;124m\"\u001b[39m\u001b[38;5;124m../docs/Profiles/\u001b[39m\u001b[38;5;124m\"\u001b[39m \u001b[38;5;241m+\u001b[39m (elem[\u001b[38;5;124m\"\u001b[39m\u001b[38;5;124mrdfs:label\u001b[39m\u001b[38;5;124m\"\u001b[39m])[:\u001b[38;5;241m-\u001b[39m\u001b[38;5;28mlen\u001b[39m(\u001b[38;5;124m\"\u001b[39m\u001b[38;5;124mProfile\u001b[39m\u001b[38;5;124m\"\u001b[39m)] \u001b[38;5;241m+\u001b[39m \u001b[38;5;124m\"\u001b[39m\u001b[38;5;124m.md\u001b[39m\u001b[38;5;124m\"\u001b[39m, \u001b[38;5;124m'\u001b[39m\u001b[38;5;124mw\u001b[39m\u001b[38;5;124m'\u001b[39m) \u001b[38;5;28;01mas\u001b[39;00m file:\n",
      "Cell \u001b[1;32mIn[47], line 5\u001b[0m, in \u001b[0;36mget_prop_list\u001b[1;34m(elem, level)\u001b[0m\n\u001b[0;32m      3\u001b[0m \u001b[38;5;28;01mfor\u001b[39;00m item \u001b[38;5;129;01min\u001b[39;00m elem[\u001b[38;5;124m\"\u001b[39m\u001b[38;5;124m$validation\u001b[39m\u001b[38;5;124m\"\u001b[39m][level] :\n\u001b[0;32m      4\u001b[0m     new_row \u001b[38;5;241m=\u001b[39m {\u001b[38;5;124m\"\u001b[39m\u001b[38;5;124mProperty\u001b[39m\u001b[38;5;124m\"\u001b[39m: item, \u001b[38;5;124m\"\u001b[39m\u001b[38;5;124mExpected Type\u001b[39m\u001b[38;5;124m\"\u001b[39m: \u001b[38;5;124m\"\u001b[39m\u001b[38;5;124m\"\u001b[39m, \u001b[38;5;124m\"\u001b[39m\u001b[38;5;124mDescription\u001b[39m\u001b[38;5;124m\"\u001b[39m: \u001b[38;5;124m\"\u001b[39m\u001b[38;5;124m\"\u001b[39m, \u001b[38;5;124m\"\u001b[39m\u001b[38;5;124mCardinality\u001b[39m\u001b[38;5;124m\"\u001b[39m: \u001b[38;5;124m\"\u001b[39m\u001b[38;5;124m\"\u001b[39m}\n\u001b[1;32m----> 5\u001b[0m     new_row[\u001b[38;5;124m\"\u001b[39m\u001b[38;5;124mDescription\u001b[39m\u001b[38;5;124m\"\u001b[39m] \u001b[38;5;241m=\u001b[39m \u001b[43melem\u001b[49m\u001b[43m[\u001b[49m\u001b[38;5;124;43m\"\u001b[39;49m\u001b[38;5;124;43m$validation\u001b[39;49m\u001b[38;5;124;43m\"\u001b[39;49m\u001b[43m]\u001b[49m\u001b[43m[\u001b[49m\u001b[38;5;124;43m\"\u001b[39;49m\u001b[38;5;124;43mproperties\u001b[39;49m\u001b[38;5;124;43m\"\u001b[39;49m\u001b[43m]\u001b[49m\u001b[43m[\u001b[49m\u001b[43mitem\u001b[49m\u001b[43m]\u001b[49m[\u001b[38;5;124m\"\u001b[39m\u001b[38;5;124mdescription\u001b[39m\u001b[38;5;124m\"\u001b[39m]\n\u001b[0;32m      6\u001b[0m     new_row[\u001b[38;5;124m\"\u001b[39m\u001b[38;5;124mCardinality\u001b[39m\u001b[38;5;124m\"\u001b[39m] \u001b[38;5;241m=\u001b[39m elem[\u001b[38;5;124m\"\u001b[39m\u001b[38;5;124m$validation\u001b[39m\u001b[38;5;124m\"\u001b[39m][\u001b[38;5;124m\"\u001b[39m\u001b[38;5;124mproperties\u001b[39m\u001b[38;5;124m\"\u001b[39m][item][\u001b[38;5;124m\"\u001b[39m\u001b[38;5;124mowl:cardinality\u001b[39m\u001b[38;5;124m\"\u001b[39m]\n\u001b[0;32m      7\u001b[0m     lst\u001b[38;5;241m.\u001b[39mappend(new_row)\n",
      "\u001b[1;31mKeyError\u001b[0m: 'archivedAt'"
     ]
    }
   ],
   "source": [
    "lst_min = []\n",
    "lst_rec= []\n",
    "lst_opt = []\n",
    "\n",
    "for elem in prof_data[\"@graph\"] :\n",
    "    if elem[\"@type\"] == \"rdfs:Class\" :\n",
    "        intro_text = \"<h1>\" + elem[\"rdfs:label\"] + \"</h1>\\n\\n\"\n",
    "        intro_text += elem[\"rdfs:label\"] + \" is profile for \" + convert_to_link(elem[\"rdfs:subClassOf\"][\"@id\"]) + \"\\n\\n\"\n",
    "        intro_text += elem[\"rdfs:comment\"] + \"\\n\\n\"\n",
    "\n",
    "        lst_min = get_prop_list(elem, \"required\")\n",
    "        lst_rec = get_prop_list(elem, \"recommended\")\n",
    "        lst_opt = get_prop_list(elem, \"optional\")\n",
    "\n",
    "        with open(\"../docs/Profiles/\" + (elem[\"rdfs:label\"])[:-len(\"Profile\")] + \".md\", 'w') as file:\n",
    "            file.write(intro_text)\n",
    "            file.write(\"##Minimum properties\\n\")\n",
    "            df_min = DataFrame(lst_min)\n",
    "            file.write(df_min.to_string())\n",
    "            file.write(\"##Recommended properties\\n\")\n",
    "            df_min = DataFrame(lst_min)\n",
    "            file.write(df_min.to_string())\n",
    "            file.write(\"##Optional properties\\n\")\n",
    "            df_min = DataFrame(lst_min)\n",
    "            file.write(df_min.to_string())\n",
    "        "
   ]
  },
  {
   "cell_type": "code",
   "execution_count": 71,
   "id": "9a1229c7-6a35-4ea9-9bc4-d839a33b63cf",
   "metadata": {
    "scrolled": true
   },
   "outputs": [
    {
     "name": "stderr",
     "output_type": "stream",
     "text": [
      "http://schema.org/Action -  does not look like a valid URI, trying to serialize this will break.\n",
      "http://schema.org/Action - SoftwareRunAction does not look like a valid URI, trying to serialize this will break.\n",
      "http://schema.org/Action - SoftwareRunAction\n",
      "\n",
      " does not look like a valid URI, trying to serialize this will break.\n",
      "http://schema.org/Action - SoftwareRunAction\n",
      "\n",
      "The act of testing an object according to its specifications. For instance, testing a software with a particular testType using a specific testInput and getting a specific testOutput (aka result).\n",
      "\n",
      " does not look like a valid URI, trying to serialize this will break.\n",
      "?prop <http://schema.org/domainIncludes> <https://discovery.biothings.io/view/maSMP/SoftwareRunAction does not look like a valid URI, trying to serialize this will break.\n",
      "?prop <http://schema.org/domainIncludes> <https://discovery.biothings.io/view/maSMP/SoftwareRunAction> .  does not look like a valid URI, trying to serialize this will break.\n",
      "SELECT DISTINCT ?prop ?label ?desc ?range WHERE { ?prop <http://schema.org/domainIncludes> <https://discovery.biothings.io/view/maSMP/SoftwareRunAction> .  does not look like a valid URI, trying to serialize this will break.\n",
      "?prop <http://www.w3.org/2000/01/rdf-schema#label does not look like a valid URI, trying to serialize this will break.\n",
      "?prop <http://www.w3.org/2000/01/rdf-schema#label> ?label .  does not look like a valid URI, trying to serialize this will break.\n",
      "SELECT DISTINCT ?prop ?label ?desc ?range WHERE { ?prop <http://schema.org/domainIncludes> <https://discovery.biothings.io/view/maSMP/SoftwareRunAction> . ?prop <http://www.w3.org/2000/01/rdf-schema#label> ?label .  does not look like a valid URI, trying to serialize this will break.\n",
      "SELECT DISTINCT ?prop ?label ?desc ?range WHERE { ?prop <http://schema.org/domainIncludes> <https://discovery.biothings.io/view/maSMP/SoftwareRunAction> . ?prop <http://www.w3.org/2000/01/rdf-schema#label> ?label .  does not look like a valid URI, trying to serialize this will break.\n",
      "?prop <http://www.w3.org/2000/01/rdf-schema#comment does not look like a valid URI, trying to serialize this will break.\n",
      "?prop <http://www.w3.org/2000/01/rdf-schema#comment> ?desc .  does not look like a valid URI, trying to serialize this will break.\n",
      "SELECT DISTINCT ?prop ?label ?desc ?range WHERE { ?prop <http://schema.org/domainIncludes> <https://discovery.biothings.io/view/maSMP/SoftwareRunAction> . ?prop <http://www.w3.org/2000/01/rdf-schema#label> ?label . ?prop <http://www.w3.org/2000/01/rdf-schema#comment> ?desc .  does not look like a valid URI, trying to serialize this will break.\n",
      "SELECT DISTINCT ?prop ?label ?desc ?range WHERE { ?prop <http://schema.org/domainIncludes> <https://discovery.biothings.io/view/maSMP/SoftwareRunAction> . ?prop <http://www.w3.org/2000/01/rdf-schema#label> ?label . ?prop <http://www.w3.org/2000/01/rdf-schema#comment> ?desc .  does not look like a valid URI, trying to serialize this will break.\n",
      "SELECT DISTINCT ?prop ?label ?desc ?range WHERE { ?prop <http://schema.org/domainIncludes> <https://discovery.biothings.io/view/maSMP/SoftwareRunAction> . ?prop <http://www.w3.org/2000/01/rdf-schema#label> ?label . ?prop <http://www.w3.org/2000/01/rdf-schema#comment> ?desc . ?prop <http://schema.org/rangeIncludes> ?range .  does not look like a valid URI, trying to serialize this will break.\n",
      "SELECT DISTINCT ?prop ?label ?desc ?range WHERE { ?prop <http://schema.org/domainIncludes> <https://discovery.biothings.io/view/maSMP/SoftwareRunAction> . ?prop <http://www.w3.org/2000/01/rdf-schema#label> ?label . ?prop <http://www.w3.org/2000/01/rdf-schema#comment> ?desc . ?prop <http://schema.org/rangeIncludes> ?range .  } does not look like a valid URI, trying to serialize this will break.\n",
      "http://schema.org/Action -  does not look like a valid URI, trying to serialize this will break.\n",
      "http://schema.org/Action - SoftwareTestAction does not look like a valid URI, trying to serialize this will break.\n",
      "http://schema.org/Action - SoftwareTestAction\n",
      "\n",
      " does not look like a valid URI, trying to serialize this will break.\n",
      "http://schema.org/Action - SoftwareTestAction\n",
      "\n",
      "The act of testing an object according to its specifications. For instance, testing a software with a particular testType using a specific testInput and getting a specific testOutput (aka result).\n",
      "\n",
      " does not look like a valid URI, trying to serialize this will break.\n",
      "?prop <http://schema.org/domainIncludes> <https://discovery.biothings.io/view/maSMP/SoftwareTestAction does not look like a valid URI, trying to serialize this will break.\n",
      "?prop <http://schema.org/domainIncludes> <https://discovery.biothings.io/view/maSMP/SoftwareTestAction> .  does not look like a valid URI, trying to serialize this will break.\n",
      "SELECT DISTINCT ?prop ?label ?desc ?range WHERE { ?prop <http://schema.org/domainIncludes> <https://discovery.biothings.io/view/maSMP/SoftwareTestAction> .  does not look like a valid URI, trying to serialize this will break.\n",
      "?prop <http://www.w3.org/2000/01/rdf-schema#label does not look like a valid URI, trying to serialize this will break.\n",
      "?prop <http://www.w3.org/2000/01/rdf-schema#label> ?label .  does not look like a valid URI, trying to serialize this will break.\n",
      "SELECT DISTINCT ?prop ?label ?desc ?range WHERE { ?prop <http://schema.org/domainIncludes> <https://discovery.biothings.io/view/maSMP/SoftwareTestAction> . ?prop <http://www.w3.org/2000/01/rdf-schema#label> ?label .  does not look like a valid URI, trying to serialize this will break.\n",
      "SELECT DISTINCT ?prop ?label ?desc ?range WHERE { ?prop <http://schema.org/domainIncludes> <https://discovery.biothings.io/view/maSMP/SoftwareTestAction> . ?prop <http://www.w3.org/2000/01/rdf-schema#label> ?label .  does not look like a valid URI, trying to serialize this will break.\n",
      "?prop <http://www.w3.org/2000/01/rdf-schema#comment does not look like a valid URI, trying to serialize this will break.\n",
      "?prop <http://www.w3.org/2000/01/rdf-schema#comment> ?desc .  does not look like a valid URI, trying to serialize this will break.\n",
      "SELECT DISTINCT ?prop ?label ?desc ?range WHERE { ?prop <http://schema.org/domainIncludes> <https://discovery.biothings.io/view/maSMP/SoftwareTestAction> . ?prop <http://www.w3.org/2000/01/rdf-schema#label> ?label . ?prop <http://www.w3.org/2000/01/rdf-schema#comment> ?desc .  does not look like a valid URI, trying to serialize this will break.\n",
      "SELECT DISTINCT ?prop ?label ?desc ?range WHERE { ?prop <http://schema.org/domainIncludes> <https://discovery.biothings.io/view/maSMP/SoftwareTestAction> . ?prop <http://www.w3.org/2000/01/rdf-schema#label> ?label . ?prop <http://www.w3.org/2000/01/rdf-schema#comment> ?desc .  does not look like a valid URI, trying to serialize this will break.\n",
      "SELECT DISTINCT ?prop ?label ?desc ?range WHERE { ?prop <http://schema.org/domainIncludes> <https://discovery.biothings.io/view/maSMP/SoftwareTestAction> . ?prop <http://www.w3.org/2000/01/rdf-schema#label> ?label . ?prop <http://www.w3.org/2000/01/rdf-schema#comment> ?desc . ?prop <http://schema.org/rangeIncludes> ?range .  does not look like a valid URI, trying to serialize this will break.\n",
      "SELECT DISTINCT ?prop ?label ?desc ?range WHERE { ?prop <http://schema.org/domainIncludes> <https://discovery.biothings.io/view/maSMP/SoftwareTestAction> . ?prop <http://www.w3.org/2000/01/rdf-schema#label> ?label . ?prop <http://www.w3.org/2000/01/rdf-schema#comment> ?desc . ?prop <http://schema.org/rangeIncludes> ?range .  } does not look like a valid URI, trying to serialize this will break.\n",
      "http://schema.org/CreativeWork -  does not look like a valid URI, trying to serialize this will break.\n",
      "http://schema.org/CreativeWork - OutputManagementPlan does not look like a valid URI, trying to serialize this will break.\n",
      "http://schema.org/CreativeWork - OutputManagementPlan\n",
      "\n",
      " does not look like a valid URI, trying to serialize this will break.\n",
      "http://schema.org/CreativeWork - OutputManagementPlan\n",
      "\n",
      "Management plans (e.g., data, software, other research output/outcomes/artifacts) are a tool for researchers and research stewards to organize and plan around research artifacts, from initial ideas to publication. This type builds on top of <a href='https://schema.datacite.org/meta/kernel-4.4/' target='_blank'>DataCite Metadata Schema 4.4</a> and maps it mandatory elements to schema.org to represent research artifact management plans. This type could be extended to cover particularities wrt management plans for specific research outcomes, e.g., data management plans or software management plans.\n",
      "\n",
      " does not look like a valid URI, trying to serialize this will break.\n",
      "?prop <http://schema.org/domainIncludes> <https://discovery.biothings.io/view/maSMP/OutputManagementPlan does not look like a valid URI, trying to serialize this will break.\n",
      "?prop <http://schema.org/domainIncludes> <https://discovery.biothings.io/view/maSMP/OutputManagementPlan> .  does not look like a valid URI, trying to serialize this will break.\n",
      "SELECT DISTINCT ?prop ?label ?desc ?range WHERE { ?prop <http://schema.org/domainIncludes> <https://discovery.biothings.io/view/maSMP/OutputManagementPlan> .  does not look like a valid URI, trying to serialize this will break.\n",
      "?prop <http://www.w3.org/2000/01/rdf-schema#label does not look like a valid URI, trying to serialize this will break.\n",
      "?prop <http://www.w3.org/2000/01/rdf-schema#label> ?label .  does not look like a valid URI, trying to serialize this will break.\n",
      "SELECT DISTINCT ?prop ?label ?desc ?range WHERE { ?prop <http://schema.org/domainIncludes> <https://discovery.biothings.io/view/maSMP/OutputManagementPlan> . ?prop <http://www.w3.org/2000/01/rdf-schema#label> ?label .  does not look like a valid URI, trying to serialize this will break.\n",
      "SELECT DISTINCT ?prop ?label ?desc ?range WHERE { ?prop <http://schema.org/domainIncludes> <https://discovery.biothings.io/view/maSMP/OutputManagementPlan> . ?prop <http://www.w3.org/2000/01/rdf-schema#label> ?label .  does not look like a valid URI, trying to serialize this will break.\n",
      "?prop <http://www.w3.org/2000/01/rdf-schema#comment does not look like a valid URI, trying to serialize this will break.\n",
      "?prop <http://www.w3.org/2000/01/rdf-schema#comment> ?desc .  does not look like a valid URI, trying to serialize this will break.\n",
      "SELECT DISTINCT ?prop ?label ?desc ?range WHERE { ?prop <http://schema.org/domainIncludes> <https://discovery.biothings.io/view/maSMP/OutputManagementPlan> . ?prop <http://www.w3.org/2000/01/rdf-schema#label> ?label . ?prop <http://www.w3.org/2000/01/rdf-schema#comment> ?desc .  does not look like a valid URI, trying to serialize this will break.\n",
      "SELECT DISTINCT ?prop ?label ?desc ?range WHERE { ?prop <http://schema.org/domainIncludes> <https://discovery.biothings.io/view/maSMP/OutputManagementPlan> . ?prop <http://www.w3.org/2000/01/rdf-schema#label> ?label . ?prop <http://www.w3.org/2000/01/rdf-schema#comment> ?desc .  does not look like a valid URI, trying to serialize this will break.\n",
      "SELECT DISTINCT ?prop ?label ?desc ?range WHERE { ?prop <http://schema.org/domainIncludes> <https://discovery.biothings.io/view/maSMP/OutputManagementPlan> . ?prop <http://www.w3.org/2000/01/rdf-schema#label> ?label . ?prop <http://www.w3.org/2000/01/rdf-schema#comment> ?desc . ?prop <http://schema.org/rangeIncludes> ?range .  does not look like a valid URI, trying to serialize this will break.\n",
      "SELECT DISTINCT ?prop ?label ?desc ?range WHERE { ?prop <http://schema.org/domainIncludes> <https://discovery.biothings.io/view/maSMP/OutputManagementPlan> . ?prop <http://www.w3.org/2000/01/rdf-schema#label> ?label . ?prop <http://www.w3.org/2000/01/rdf-schema#comment> ?desc . ?prop <http://schema.org/rangeIncludes> ?range .  } does not look like a valid URI, trying to serialize this will break.\n",
      "https://discovery.biothings.io/view/maSMP/OutputManagementPlan -  does not look like a valid URI, trying to serialize this will break.\n",
      "https://discovery.biothings.io/view/maSMP/OutputManagementPlan - SoftwareManagementPlan does not look like a valid URI, trying to serialize this will break.\n",
      "https://discovery.biothings.io/view/maSMP/OutputManagementPlan - SoftwareManagementPlan\n",
      "\n",
      " does not look like a valid URI, trying to serialize this will break.\n",
      "https://discovery.biothings.io/view/maSMP/OutputManagementPlan - SoftwareManagementPlan\n",
      "\n",
      "Software Management plan.\n",
      "\n",
      " does not look like a valid URI, trying to serialize this will break.\n",
      "?prop <http://schema.org/domainIncludes> <https://discovery.biothings.io/view/maSMP/SoftwareManagementPlan does not look like a valid URI, trying to serialize this will break.\n",
      "?prop <http://schema.org/domainIncludes> <https://discovery.biothings.io/view/maSMP/SoftwareManagementPlan> .  does not look like a valid URI, trying to serialize this will break.\n",
      "SELECT DISTINCT ?prop ?label ?desc ?range WHERE { ?prop <http://schema.org/domainIncludes> <https://discovery.biothings.io/view/maSMP/SoftwareManagementPlan> .  does not look like a valid URI, trying to serialize this will break.\n",
      "?prop <http://www.w3.org/2000/01/rdf-schema#label does not look like a valid URI, trying to serialize this will break.\n",
      "?prop <http://www.w3.org/2000/01/rdf-schema#label> ?label .  does not look like a valid URI, trying to serialize this will break.\n",
      "SELECT DISTINCT ?prop ?label ?desc ?range WHERE { ?prop <http://schema.org/domainIncludes> <https://discovery.biothings.io/view/maSMP/SoftwareManagementPlan> . ?prop <http://www.w3.org/2000/01/rdf-schema#label> ?label .  does not look like a valid URI, trying to serialize this will break.\n",
      "SELECT DISTINCT ?prop ?label ?desc ?range WHERE { ?prop <http://schema.org/domainIncludes> <https://discovery.biothings.io/view/maSMP/SoftwareManagementPlan> . ?prop <http://www.w3.org/2000/01/rdf-schema#label> ?label .  does not look like a valid URI, trying to serialize this will break.\n",
      "?prop <http://www.w3.org/2000/01/rdf-schema#comment does not look like a valid URI, trying to serialize this will break.\n",
      "?prop <http://www.w3.org/2000/01/rdf-schema#comment> ?desc .  does not look like a valid URI, trying to serialize this will break.\n",
      "SELECT DISTINCT ?prop ?label ?desc ?range WHERE { ?prop <http://schema.org/domainIncludes> <https://discovery.biothings.io/view/maSMP/SoftwareManagementPlan> . ?prop <http://www.w3.org/2000/01/rdf-schema#label> ?label . ?prop <http://www.w3.org/2000/01/rdf-schema#comment> ?desc .  does not look like a valid URI, trying to serialize this will break.\n",
      "SELECT DISTINCT ?prop ?label ?desc ?range WHERE { ?prop <http://schema.org/domainIncludes> <https://discovery.biothings.io/view/maSMP/SoftwareManagementPlan> . ?prop <http://www.w3.org/2000/01/rdf-schema#label> ?label . ?prop <http://www.w3.org/2000/01/rdf-schema#comment> ?desc .  does not look like a valid URI, trying to serialize this will break.\n",
      "SELECT DISTINCT ?prop ?label ?desc ?range WHERE { ?prop <http://schema.org/domainIncludes> <https://discovery.biothings.io/view/maSMP/SoftwareManagementPlan> . ?prop <http://www.w3.org/2000/01/rdf-schema#label> ?label . ?prop <http://www.w3.org/2000/01/rdf-schema#comment> ?desc . ?prop <http://schema.org/rangeIncludes> ?range .  does not look like a valid URI, trying to serialize this will break.\n",
      "SELECT DISTINCT ?prop ?label ?desc ?range WHERE { ?prop <http://schema.org/domainIncludes> <https://discovery.biothings.io/view/maSMP/SoftwareManagementPlan> . ?prop <http://www.w3.org/2000/01/rdf-schema#label> ?label . ?prop <http://www.w3.org/2000/01/rdf-schema#comment> ?desc . ?prop <http://schema.org/rangeIncludes> ?range .  } does not look like a valid URI, trying to serialize this will break.\n"
     ]
    },
    {
     "name": "stdout",
     "output_type": "stream",
     "text": [
      "SoftwareRunAction\n",
      "SoftwareTestAction\n",
      "OutputManagementPlan\n",
      "SoftwareManagementPlan\n"
     ]
    }
   ],
   "source": [
    "#Create individual pages per type\n",
    "#iterate over all classes in the maSMP namespace to get properties\n",
    "for s in g.subjects(object=rdfs_class, unique=True) :\n",
    "    type_name = str(s).split('/')[-1]   \n",
    "    \n",
    "    if maSMP_ns in s :\n",
    "        description = g.value(subject=s, predicate=RDFS.comment)\n",
    "        parent = g.value(subject=s, predicate=RDFS.subClassOf)\n",
    "\n",
    "        #info about type, hierarchy, and description\n",
    "        intro_text = type_name + \"is profile for \" + convert_to_link(parent) + \"\\n\\n\" #add link to parent\n",
    "        intro_text += description + \"\\n\\n\"\n",
    "\n",
    "        #get all properties that have this type as domain\n",
    "        get_props_query = \"SELECT DISTINCT ?prop ?label ?desc ?range WHERE { \"\n",
    "        get_props_query += \"?prop <\" + schema_ns + \"domainIncludes> <\" + s + \"> . \" \n",
    "        get_props_query += \"?prop <\" + RDFS.label + \"> ?label . \" \n",
    "        get_props_query += \"?prop <\" + RDFS.comment + \"> ?desc . \"\n",
    "        get_props_query += \"?prop <\" + schema_ns + \"rangeIncludes> ?range . \" \n",
    "        get_props_query += \" }\"\n",
    "        qres = g.query(get_props_query)\n",
    "\n",
    "        table = \"<table>\\n\" + \"<tr><th>Property</th><th>Expected Type</th><th>Description</th></tr>\"\n",
    "        df = DataFrame(qres, columns=['prop', 'label', 'desc', 'range'])\n",
    "        df = df.groupby(['prop']).agg({'label' : 'first', 'desc' : 'first', 'range' : ' or '.join}) \n",
    "        for index, row  in df.iterrows() :\n",
    "            table += \"<tr><td>\" + row['label'] + \"</td>\"\n",
    "            table += \"<td>\" + row['range'] + \"</td>\"\n",
    "            table += \"<td>\" + row['desc'] + \"</td>\"\n",
    "            table += \"</tr>\\n\"\n",
    "        table += \"</table>\\n\"\n",
    "\n",
    "        with open(\"../docs/Types/\" + type_name + \".md\", 'w') as file:\n",
    "            file.write(intro_text)\n",
    "            file.write(table)\n",
    "        "
   ]
  },
  {
   "cell_type": "code",
   "execution_count": null,
   "id": "1ae8b48c-cd5f-4d58-82fc-7e093c5d3035",
   "metadata": {},
   "outputs": [],
   "source": [
    "get_props_query = \"\"\"\n",
    "SELECT DISTINCT ?id ?range ?desc\n",
    "WHERE {\n",
    "  \n",
    "}\n",
    "\"\"\""
   ]
  },
  {
   "cell_type": "code",
   "execution_count": null,
   "id": "f2526945-6a26-4584-ac8f-e7f4c7b3de72",
   "metadata": {},
   "outputs": [],
   "source": [
    "table = \"<table>\\n\" + \"<tr><th>Property</th><th>Expected Type</th><th>Description</th></tr>\\n\"\n",
    "        for prop_range in g.objects(subject=s, predicate=schema_range) :\n",
    "            range_name = str(prop_range).split('/')[-1]\n",
    "            if maSMP_ns not in prop_range :\n",
    "                table += \"<tr><td><a href='\" + prop_range + \"'>\" + range_name + \"</a></td><td>\" + description + \"</td></tr>\\n\\n\"\n",
    "            table += \"<tr><td><a href='./\" + sufix + \"'>\" + sufix + \"</a></td><td>\" + description + \"</td></tr>\\n\\n\"\n",
    "        table += \"</table>\\n\""
   ]
  }
 ],
 "metadata": {
  "kernelspec": {
   "display_name": "Python 3 (ipykernel)",
   "language": "python",
   "name": "python3"
  },
  "language_info": {
   "codemirror_mode": {
    "name": "ipython",
    "version": 3
   },
   "file_extension": ".py",
   "mimetype": "text/x-python",
   "name": "python",
   "nbconvert_exporter": "python",
   "pygments_lexer": "ipython3",
   "version": "3.12.7"
  }
 },
 "nbformat": 4,
 "nbformat_minor": 5
}
