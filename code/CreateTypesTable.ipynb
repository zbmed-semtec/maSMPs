{
 "cells": [
  {
   "cell_type": "code",
   "execution_count": 1,
   "id": "3c9b0680-8e64-4017-9d3c-ec491ba6013a",
   "metadata": {},
   "outputs": [
    {
     "name": "stdout",
     "output_type": "stream",
     "text": [
      "Requirement already satisfied: rdflib in c:\\software\\iniforge3\\lib\\site-packages (7.1.3)\n",
      "Requirement already satisfied: pyparsing<4,>=2.1.0 in c:\\software\\iniforge3\\lib\\site-packages (from rdflib) (3.2.1)\n"
     ]
    }
   ],
   "source": [
    "import sys\n",
    "!{sys.executable} -m pip install rdflib"
   ]
  },
  {
   "cell_type": "code",
   "execution_count": 45,
   "id": "ca2a8d32-ff5c-4d0d-bd98-d47904bf1240",
   "metadata": {},
   "outputs": [
    {
     "name": "stdout",
     "output_type": "stream",
     "text": [
      "Collecting pandas\n",
      "  Using cached pandas-2.2.3-cp312-cp312-win_amd64.whl.metadata (19 kB)\n",
      "Collecting numpy\n",
      "  Downloading numpy-2.2.3-cp312-cp312-win_amd64.whl.metadata (60 kB)\n",
      "Requirement already satisfied: python-dateutil>=2.8.2 in c:\\software\\iniforge3\\lib\\site-packages (from pandas) (2.9.0.post0)\n",
      "Collecting pytz>=2020.1 (from pandas)\n",
      "  Downloading pytz-2025.1-py2.py3-none-any.whl.metadata (22 kB)\n",
      "Collecting tzdata>=2022.7 (from pandas)\n",
      "  Downloading tzdata-2025.1-py2.py3-none-any.whl.metadata (1.4 kB)\n",
      "Requirement already satisfied: six>=1.5 in c:\\software\\iniforge3\\lib\\site-packages (from python-dateutil>=2.8.2->pandas) (1.17.0)\n",
      "Using cached pandas-2.2.3-cp312-cp312-win_amd64.whl (11.5 MB)\n",
      "Downloading numpy-2.2.3-cp312-cp312-win_amd64.whl (12.6 MB)\n",
      "   ---------------------------------------- 0.0/12.6 MB ? eta -:--:--\n",
      "   ---------------- ----------------------- 5.2/12.6 MB 26.6 MB/s eta 0:00:01\n",
      "   ------------------------------------ --- 11.5/12.6 MB 27.8 MB/s eta 0:00:01\n",
      "   ---------------------------------------- 12.6/12.6 MB 25.5 MB/s eta 0:00:00\n",
      "Downloading pytz-2025.1-py2.py3-none-any.whl (507 kB)\n",
      "Downloading tzdata-2025.1-py2.py3-none-any.whl (346 kB)\n",
      "Installing collected packages: pytz, tzdata, numpy, pandas\n",
      "Successfully installed numpy-2.2.3 pandas-2.2.3 pytz-2025.1 tzdata-2025.1\n"
     ]
    }
   ],
   "source": [
    "import sys\n",
    "!{sys.executable} -m pip install pandas numpy"
   ]
  },
  {
   "cell_type": "code",
   "execution_count": 79,
   "id": "6f968d3e-8c9a-4e60-a273-34dc1ef536d0",
   "metadata": {},
   "outputs": [],
   "source": [
    "from rdflib import Graph\n",
    "from rdflib import URIRef\n",
    "from rdflib.namespace import RDF, RDFS, OWL\n",
    "\n",
    "from pandas import DataFrame"
   ]
  },
  {
   "cell_type": "code",
   "execution_count": 80,
   "id": "29e916fd-e77c-4589-8089-e201f40a9c39",
   "metadata": {},
   "outputs": [],
   "source": [
    "#namespaces\n",
    "maSMP_ns = \"https://discovery.biothings.io/view/maSMP/\"\n",
    "schema_ns = \"http://schema.org/\" #double check whether http or https is used in the source file\n",
    "\n",
    "#properties used for filtering triples\n",
    "rdfs_class = URIRef(\"http://www.w3.org/2000/01/rdf-schema#Class\")\n",
    "schema_domain = URIRef(schema_ns + \"domainIncludes\")\n",
    "schema_range = URIRef(schema_ns + \"rangeIncludes\")"
   ]
  },
  {
   "cell_type": "code",
   "execution_count": 75,
   "id": "9ad78c52-2944-4c37-9c42-28ecc84f6410",
   "metadata": {},
   "outputs": [
    {
     "data": {
      "text/plain": [
       "<Graph identifier=N2e3cdd3701f04feea36ff7321d0dcd22 (<class 'rdflib.graph.Graph'>)>"
      ]
     },
     "execution_count": 75,
     "metadata": {},
     "output_type": "execute_result"
    }
   ],
   "source": [
    "#load graph\n",
    "g = Graph()\n",
    "g.parse(\"https://raw.githubusercontent.com/zbmed-semtec/maSMPs/refs/heads/main/schema/maSMP_schema_v2/v2.1.0/types/maSMP.jsonld\")"
   ]
  },
  {
   "cell_type": "markdown",
   "id": "a13b76dc-8b58-4e31-bb89-d83de53d1230",
   "metadata": {},
   "source": [
    "## Create an index page for Types"
   ]
  },
  {
   "cell_type": "code",
   "execution_count": 76,
   "id": "b1330c13-36c9-4600-8687-84d373cdfcac",
   "metadata": {},
   "outputs": [],
   "source": [
    "#Create a generic table listing all the types and their descriptions\n",
    "\n",
    "table = \"<table>\\n\" + \"<tr><th>Type</th><th>Description</th></tr>\\n\"\n",
    "\n",
    "#iterate over all classes in the maSMP namespace to get type and description\n",
    "for s in g.subjects(object=rdfs_class, unique=True) :\n",
    "    type_name = str(s).split('/')[-1]    \n",
    "    if maSMP_ns in s :\n",
    "        description = g.value(subject=s, predicate=RDFS.comment)\n",
    "        table += \"<tr><td><a href='./\" + type_name + \"'>\" + type_name + \"</a></td><td>\" + description + \"</td></tr>\\n\\n\"\n",
    "\n",
    "table += \"</table>\\n\""
   ]
  },
  {
   "cell_type": "code",
   "execution_count": 77,
   "id": "0870651a-78e0-466c-8321-a1df8e89a1e3",
   "metadata": {},
   "outputs": [],
   "source": [
    "# Create the Types page\n",
    "intro_text = \"\"\"\n",
    "<h1>maSMP Types</h1>\\n\n",
    "maSMP types are extensions to the schema.org vocabulary. \n",
    "All types and properties for the maSMP metadata schema can also be found at the [maSMP DDE namespace](https://discovery.biothings.io/ns/maSMP){:target=\"_blank\"}.\n",
    "\\n\\n\n",
    "\"\"\"\n",
    "\n",
    "with open(\"../docs/Types/index.md\", 'w') as file:\n",
    "    file.write(intro_text)\n",
    "    file.write(table)"
   ]
  },
  {
   "cell_type": "markdown",
   "id": "cac086aa-b15e-4410-ad95-e09c496d4325",
   "metadata": {},
   "source": [
    "## Create individual pages, one per type"
   ]
  },
  {
   "cell_type": "code",
   "execution_count": 112,
   "id": "842a6337-bcdf-44df-aeba-f8af1d6327bf",
   "metadata": {},
   "outputs": [
    {
     "name": "stdout",
     "output_type": "stream",
     "text": [
      "maSMP:Text\n",
      "maSMP:Text\n",
      "maSMP:myText\n",
      "maSMP:myText\n",
      "<a href='http://schema.org/Text' target='_blank'>Text</a>\n",
      "[Text](http://schema.org/Text){:target='_blank'}\n",
      "<a href='http://schema.org/Text' target='_blank'>myText</a>\n",
      "[myText](http://schema.org/Text){:target='_blank'}\n"
     ]
    },
    {
     "data": {
      "text/plain": [
       "\"[Action](http://schema.org/Action){:target='_blank'}\""
      ]
     },
     "execution_count": 112,
     "metadata": {},
     "output_type": "execute_result"
    }
   ],
   "source": [
    "def_value = maSMP_ns\n",
    "def convert_to_link(url, maSMP_ns=def_value, label=None, md=False) :\n",
    "    if label is None:\n",
    "        label = str(url).split('/')[-1]\n",
    "        \n",
    "    if maSMP_ns in url:\n",
    "        return \"maSMP:\" + label\n",
    "    else :\n",
    "        if md :\n",
    "            return \"[{}]({})\".format(label, url) + \"{:target='_blank'}\"\n",
    "        else :\n",
    "            return \"<a href='{}' target='_blank'>{}</a>\".format(url, label)\n",
    "\n",
    "print(convert_to_link(maSMP_ns+\"Text\"))\n",
    "print(convert_to_link(maSMP_ns+\"Text\", md=True))\n",
    "print(convert_to_link(maSMP_ns+\"Text\", label=\"myText\"))\n",
    "print(convert_to_link(maSMP_ns+\"Text\", label=\"myText\", md=True))\n",
    "\n",
    "print(convert_to_link(\"http://schema.org/Text\"))\n",
    "print(convert_to_link(\"http://schema.org/Text\", md=True))\n",
    "print(convert_to_link(\"http://schema.org/Text\", label=\"myText\"))\n",
    "print(convert_to_link(\"http://schema.org/Text\", label=\"myText\", md=True))\n",
    "\n",
    "convert_to_link(\"http://schema.org/Action\", md=True)"
   ]
  },
  {
   "cell_type": "code",
   "execution_count": 121,
   "id": "9a1229c7-6a35-4ea9-9bc4-d839a33b63cf",
   "metadata": {
    "scrolled": true
   },
   "outputs": [
    {
     "name": "stderr",
     "output_type": "stream",
     "text": [
      "?prop <http://schema.org/domainIncludes> <https://discovery.biothings.io/view/maSMP/SoftwareRunAction does not look like a valid URI, trying to serialize this will break.\n",
      "?prop <http://schema.org/domainIncludes> <https://discovery.biothings.io/view/maSMP/SoftwareRunAction> .  does not look like a valid URI, trying to serialize this will break.\n",
      "SELECT DISTINCT ?prop ?label ?desc ?range WHERE { ?prop <http://schema.org/domainIncludes> <https://discovery.biothings.io/view/maSMP/SoftwareRunAction> .  does not look like a valid URI, trying to serialize this will break.\n",
      "?prop <http://www.w3.org/2000/01/rdf-schema#label does not look like a valid URI, trying to serialize this will break.\n",
      "?prop <http://www.w3.org/2000/01/rdf-schema#label> ?label .  does not look like a valid URI, trying to serialize this will break.\n",
      "SELECT DISTINCT ?prop ?label ?desc ?range WHERE { ?prop <http://schema.org/domainIncludes> <https://discovery.biothings.io/view/maSMP/SoftwareRunAction> . ?prop <http://www.w3.org/2000/01/rdf-schema#label> ?label .  does not look like a valid URI, trying to serialize this will break.\n",
      "SELECT DISTINCT ?prop ?label ?desc ?range WHERE { ?prop <http://schema.org/domainIncludes> <https://discovery.biothings.io/view/maSMP/SoftwareRunAction> . ?prop <http://www.w3.org/2000/01/rdf-schema#label> ?label .  does not look like a valid URI, trying to serialize this will break.\n",
      "?prop <http://www.w3.org/2000/01/rdf-schema#comment does not look like a valid URI, trying to serialize this will break.\n",
      "?prop <http://www.w3.org/2000/01/rdf-schema#comment> ?desc .  does not look like a valid URI, trying to serialize this will break.\n",
      "SELECT DISTINCT ?prop ?label ?desc ?range WHERE { ?prop <http://schema.org/domainIncludes> <https://discovery.biothings.io/view/maSMP/SoftwareRunAction> . ?prop <http://www.w3.org/2000/01/rdf-schema#label> ?label . ?prop <http://www.w3.org/2000/01/rdf-schema#comment> ?desc .  does not look like a valid URI, trying to serialize this will break.\n",
      "SELECT DISTINCT ?prop ?label ?desc ?range WHERE { ?prop <http://schema.org/domainIncludes> <https://discovery.biothings.io/view/maSMP/SoftwareRunAction> . ?prop <http://www.w3.org/2000/01/rdf-schema#label> ?label . ?prop <http://www.w3.org/2000/01/rdf-schema#comment> ?desc .  does not look like a valid URI, trying to serialize this will break.\n",
      "SELECT DISTINCT ?prop ?label ?desc ?range WHERE { ?prop <http://schema.org/domainIncludes> <https://discovery.biothings.io/view/maSMP/SoftwareRunAction> . ?prop <http://www.w3.org/2000/01/rdf-schema#label> ?label . ?prop <http://www.w3.org/2000/01/rdf-schema#comment> ?desc . ?prop <http://schema.org/rangeIncludes> ?range .  does not look like a valid URI, trying to serialize this will break.\n",
      "SELECT DISTINCT ?prop ?label ?desc ?range WHERE { ?prop <http://schema.org/domainIncludes> <https://discovery.biothings.io/view/maSMP/SoftwareRunAction> . ?prop <http://www.w3.org/2000/01/rdf-schema#label> ?label . ?prop <http://www.w3.org/2000/01/rdf-schema#comment> ?desc . ?prop <http://schema.org/rangeIncludes> ?range .  } does not look like a valid URI, trying to serialize this will break.\n",
      "?prop <http://schema.org/domainIncludes> <https://discovery.biothings.io/view/maSMP/SoftwareTestAction does not look like a valid URI, trying to serialize this will break.\n",
      "?prop <http://schema.org/domainIncludes> <https://discovery.biothings.io/view/maSMP/SoftwareTestAction> .  does not look like a valid URI, trying to serialize this will break.\n",
      "SELECT DISTINCT ?prop ?label ?desc ?range WHERE { ?prop <http://schema.org/domainIncludes> <https://discovery.biothings.io/view/maSMP/SoftwareTestAction> .  does not look like a valid URI, trying to serialize this will break.\n",
      "?prop <http://www.w3.org/2000/01/rdf-schema#label does not look like a valid URI, trying to serialize this will break.\n",
      "?prop <http://www.w3.org/2000/01/rdf-schema#label> ?label .  does not look like a valid URI, trying to serialize this will break.\n",
      "SELECT DISTINCT ?prop ?label ?desc ?range WHERE { ?prop <http://schema.org/domainIncludes> <https://discovery.biothings.io/view/maSMP/SoftwareTestAction> . ?prop <http://www.w3.org/2000/01/rdf-schema#label> ?label .  does not look like a valid URI, trying to serialize this will break.\n",
      "SELECT DISTINCT ?prop ?label ?desc ?range WHERE { ?prop <http://schema.org/domainIncludes> <https://discovery.biothings.io/view/maSMP/SoftwareTestAction> . ?prop <http://www.w3.org/2000/01/rdf-schema#label> ?label .  does not look like a valid URI, trying to serialize this will break.\n",
      "?prop <http://www.w3.org/2000/01/rdf-schema#comment does not look like a valid URI, trying to serialize this will break.\n",
      "?prop <http://www.w3.org/2000/01/rdf-schema#comment> ?desc .  does not look like a valid URI, trying to serialize this will break.\n",
      "SELECT DISTINCT ?prop ?label ?desc ?range WHERE { ?prop <http://schema.org/domainIncludes> <https://discovery.biothings.io/view/maSMP/SoftwareTestAction> . ?prop <http://www.w3.org/2000/01/rdf-schema#label> ?label . ?prop <http://www.w3.org/2000/01/rdf-schema#comment> ?desc .  does not look like a valid URI, trying to serialize this will break.\n",
      "SELECT DISTINCT ?prop ?label ?desc ?range WHERE { ?prop <http://schema.org/domainIncludes> <https://discovery.biothings.io/view/maSMP/SoftwareTestAction> . ?prop <http://www.w3.org/2000/01/rdf-schema#label> ?label . ?prop <http://www.w3.org/2000/01/rdf-schema#comment> ?desc .  does not look like a valid URI, trying to serialize this will break.\n",
      "SELECT DISTINCT ?prop ?label ?desc ?range WHERE { ?prop <http://schema.org/domainIncludes> <https://discovery.biothings.io/view/maSMP/SoftwareTestAction> . ?prop <http://www.w3.org/2000/01/rdf-schema#label> ?label . ?prop <http://www.w3.org/2000/01/rdf-schema#comment> ?desc . ?prop <http://schema.org/rangeIncludes> ?range .  does not look like a valid URI, trying to serialize this will break.\n",
      "SELECT DISTINCT ?prop ?label ?desc ?range WHERE { ?prop <http://schema.org/domainIncludes> <https://discovery.biothings.io/view/maSMP/SoftwareTestAction> . ?prop <http://www.w3.org/2000/01/rdf-schema#label> ?label . ?prop <http://www.w3.org/2000/01/rdf-schema#comment> ?desc . ?prop <http://schema.org/rangeIncludes> ?range .  } does not look like a valid URI, trying to serialize this will break.\n",
      "?prop <http://schema.org/domainIncludes> <https://discovery.biothings.io/view/maSMP/OutputManagementPlan does not look like a valid URI, trying to serialize this will break.\n",
      "?prop <http://schema.org/domainIncludes> <https://discovery.biothings.io/view/maSMP/OutputManagementPlan> .  does not look like a valid URI, trying to serialize this will break.\n",
      "SELECT DISTINCT ?prop ?label ?desc ?range WHERE { ?prop <http://schema.org/domainIncludes> <https://discovery.biothings.io/view/maSMP/OutputManagementPlan> .  does not look like a valid URI, trying to serialize this will break.\n",
      "?prop <http://www.w3.org/2000/01/rdf-schema#label does not look like a valid URI, trying to serialize this will break.\n",
      "?prop <http://www.w3.org/2000/01/rdf-schema#label> ?label .  does not look like a valid URI, trying to serialize this will break.\n",
      "SELECT DISTINCT ?prop ?label ?desc ?range WHERE { ?prop <http://schema.org/domainIncludes> <https://discovery.biothings.io/view/maSMP/OutputManagementPlan> . ?prop <http://www.w3.org/2000/01/rdf-schema#label> ?label .  does not look like a valid URI, trying to serialize this will break.\n",
      "SELECT DISTINCT ?prop ?label ?desc ?range WHERE { ?prop <http://schema.org/domainIncludes> <https://discovery.biothings.io/view/maSMP/OutputManagementPlan> . ?prop <http://www.w3.org/2000/01/rdf-schema#label> ?label .  does not look like a valid URI, trying to serialize this will break.\n",
      "?prop <http://www.w3.org/2000/01/rdf-schema#comment does not look like a valid URI, trying to serialize this will break.\n",
      "?prop <http://www.w3.org/2000/01/rdf-schema#comment> ?desc .  does not look like a valid URI, trying to serialize this will break.\n",
      "SELECT DISTINCT ?prop ?label ?desc ?range WHERE { ?prop <http://schema.org/domainIncludes> <https://discovery.biothings.io/view/maSMP/OutputManagementPlan> . ?prop <http://www.w3.org/2000/01/rdf-schema#label> ?label . ?prop <http://www.w3.org/2000/01/rdf-schema#comment> ?desc .  does not look like a valid URI, trying to serialize this will break.\n",
      "SELECT DISTINCT ?prop ?label ?desc ?range WHERE { ?prop <http://schema.org/domainIncludes> <https://discovery.biothings.io/view/maSMP/OutputManagementPlan> . ?prop <http://www.w3.org/2000/01/rdf-schema#label> ?label . ?prop <http://www.w3.org/2000/01/rdf-schema#comment> ?desc .  does not look like a valid URI, trying to serialize this will break.\n",
      "SELECT DISTINCT ?prop ?label ?desc ?range WHERE { ?prop <http://schema.org/domainIncludes> <https://discovery.biothings.io/view/maSMP/OutputManagementPlan> . ?prop <http://www.w3.org/2000/01/rdf-schema#label> ?label . ?prop <http://www.w3.org/2000/01/rdf-schema#comment> ?desc . ?prop <http://schema.org/rangeIncludes> ?range .  does not look like a valid URI, trying to serialize this will break.\n",
      "SELECT DISTINCT ?prop ?label ?desc ?range WHERE { ?prop <http://schema.org/domainIncludes> <https://discovery.biothings.io/view/maSMP/OutputManagementPlan> . ?prop <http://www.w3.org/2000/01/rdf-schema#label> ?label . ?prop <http://www.w3.org/2000/01/rdf-schema#comment> ?desc . ?prop <http://schema.org/rangeIncludes> ?range .  } does not look like a valid URI, trying to serialize this will break.\n",
      "?prop <http://schema.org/domainIncludes> <https://discovery.biothings.io/view/maSMP/SoftwareManagementPlan does not look like a valid URI, trying to serialize this will break.\n",
      "?prop <http://schema.org/domainIncludes> <https://discovery.biothings.io/view/maSMP/SoftwareManagementPlan> .  does not look like a valid URI, trying to serialize this will break.\n",
      "SELECT DISTINCT ?prop ?label ?desc ?range WHERE { ?prop <http://schema.org/domainIncludes> <https://discovery.biothings.io/view/maSMP/SoftwareManagementPlan> .  does not look like a valid URI, trying to serialize this will break.\n",
      "?prop <http://www.w3.org/2000/01/rdf-schema#label does not look like a valid URI, trying to serialize this will break.\n",
      "?prop <http://www.w3.org/2000/01/rdf-schema#label> ?label .  does not look like a valid URI, trying to serialize this will break.\n",
      "SELECT DISTINCT ?prop ?label ?desc ?range WHERE { ?prop <http://schema.org/domainIncludes> <https://discovery.biothings.io/view/maSMP/SoftwareManagementPlan> . ?prop <http://www.w3.org/2000/01/rdf-schema#label> ?label .  does not look like a valid URI, trying to serialize this will break.\n",
      "SELECT DISTINCT ?prop ?label ?desc ?range WHERE { ?prop <http://schema.org/domainIncludes> <https://discovery.biothings.io/view/maSMP/SoftwareManagementPlan> . ?prop <http://www.w3.org/2000/01/rdf-schema#label> ?label .  does not look like a valid URI, trying to serialize this will break.\n",
      "?prop <http://www.w3.org/2000/01/rdf-schema#comment does not look like a valid URI, trying to serialize this will break.\n",
      "?prop <http://www.w3.org/2000/01/rdf-schema#comment> ?desc .  does not look like a valid URI, trying to serialize this will break.\n",
      "SELECT DISTINCT ?prop ?label ?desc ?range WHERE { ?prop <http://schema.org/domainIncludes> <https://discovery.biothings.io/view/maSMP/SoftwareManagementPlan> . ?prop <http://www.w3.org/2000/01/rdf-schema#label> ?label . ?prop <http://www.w3.org/2000/01/rdf-schema#comment> ?desc .  does not look like a valid URI, trying to serialize this will break.\n",
      "SELECT DISTINCT ?prop ?label ?desc ?range WHERE { ?prop <http://schema.org/domainIncludes> <https://discovery.biothings.io/view/maSMP/SoftwareManagementPlan> . ?prop <http://www.w3.org/2000/01/rdf-schema#label> ?label . ?prop <http://www.w3.org/2000/01/rdf-schema#comment> ?desc .  does not look like a valid URI, trying to serialize this will break.\n",
      "SELECT DISTINCT ?prop ?label ?desc ?range WHERE { ?prop <http://schema.org/domainIncludes> <https://discovery.biothings.io/view/maSMP/SoftwareManagementPlan> . ?prop <http://www.w3.org/2000/01/rdf-schema#label> ?label . ?prop <http://www.w3.org/2000/01/rdf-schema#comment> ?desc . ?prop <http://schema.org/rangeIncludes> ?range .  does not look like a valid URI, trying to serialize this will break.\n",
      "SELECT DISTINCT ?prop ?label ?desc ?range WHERE { ?prop <http://schema.org/domainIncludes> <https://discovery.biothings.io/view/maSMP/SoftwareManagementPlan> . ?prop <http://www.w3.org/2000/01/rdf-schema#label> ?label . ?prop <http://www.w3.org/2000/01/rdf-schema#comment> ?desc . ?prop <http://schema.org/rangeIncludes> ?range .  } does not look like a valid URI, trying to serialize this will break.\n"
     ]
    }
   ],
   "source": [
    "#Create individual pages per type\n",
    "#iterate over all classes in the maSMP namespace to get properties\n",
    "for s in g.subjects(object=rdfs_class, unique=True) :\n",
    "    type_name = str(s).split('/')[-1]   \n",
    "    \n",
    "    if maSMP_ns in s :\n",
    "        description = g.value(subject=s, predicate=RDFS.comment)\n",
    "        parent = g.value(subject=s, predicate=RDFS.subClassOf) \n",
    "\n",
    "        #info about type, hierarchy, and description\n",
    "        intro_text = \"(parent type) \" + convert_to_link(parent, md=True) + \" - (type) maSMP:\" + type_name + \"\\n\\n\"\n",
    "        intro_text += description + \"\\n\\n\"\n",
    "\n",
    "        #get all properties that have this type as domain\n",
    "        get_props_query = \"SELECT DISTINCT ?prop ?label ?desc ?range WHERE { \"\n",
    "        get_props_query += \"?prop <\" + schema_ns + \"domainIncludes> <\" + s + \"> . \" \n",
    "        get_props_query += \"?prop <\" + RDFS.label + \"> ?label . \" \n",
    "        get_props_query += \"?prop <\" + RDFS.comment + \"> ?desc . \"\n",
    "        get_props_query += \"?prop <\" + schema_ns + \"rangeIncludes> ?range . \" \n",
    "        get_props_query += \" }\"\n",
    "        qres = g.query(get_props_query)\n",
    "\n",
    "        table = \"<table>\\n\" + \"<tr><th>Property</th><th>Expected Type</th><th>Description</th></tr>\\n\"\n",
    "        \n",
    "        df = DataFrame(qres, columns=['prop', 'label', 'desc', 'range'])\n",
    "        df['range'] = df['range'].apply(convert_to_link) # convert to link all the expected values\n",
    "        df = df.groupby(['prop']).agg({'label' : 'first', 'desc' : 'first', 'range' : ' or '.join}) #groups by property so, only one row per property\n",
    "        for index, row  in df.iterrows() :\n",
    "            table += \"<tr>\"\n",
    "            #property name with external links\n",
    "            table += \"<td>\" + convert_to_link(index, label=row['label'], md=False) + \"</td>\\n\"\n",
    "            #expected types with external links (links and joint before the loop)\n",
    "            table += \"<td>\" + row['range']+ \"</td>\\n\"\n",
    "            #description\n",
    "            table += \"<td>\" + row['desc'] + \"</td>\\n\"\n",
    "            table += \"</tr>\\n\"\n",
    "        table += \"</table>\\n\"\n",
    "\n",
    "        with open(\"../docs/Types/\" + type_name + \".md\", 'w') as file:\n",
    "            file.write(intro_text)\n",
    "            file.write(table)\n",
    "        "
   ]
  },
  {
   "cell_type": "code",
   "execution_count": null,
   "id": "83ce88b9-ceae-42a0-9310-c9ccb699c91d",
   "metadata": {},
   "outputs": [],
   "source": []
  }
 ],
 "metadata": {
  "kernelspec": {
   "display_name": "Python 3 (ipykernel)",
   "language": "python",
   "name": "python3"
  },
  "language_info": {
   "codemirror_mode": {
    "name": "ipython",
    "version": 3
   },
   "file_extension": ".py",
   "mimetype": "text/x-python",
   "name": "python",
   "nbconvert_exporter": "python",
   "pygments_lexer": "ipython3",
   "version": "3.12.7"
  }
 },
 "nbformat": 4,
 "nbformat_minor": 5
}
